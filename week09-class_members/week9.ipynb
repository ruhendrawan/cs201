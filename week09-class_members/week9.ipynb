{
 "cells": [
  {
   "cell_type": "code",
   "execution_count": null,
   "metadata": {},
   "outputs": [],
   "source": [
    "# Object is not serializable\n",
    "\n",
    "# Why we need OOP?\n",
    "\n",
    "# Final project draft"
   ]
  },
  {
   "cell_type": "code",
   "execution_count": 1,
   "metadata": {},
   "outputs": [
    {
     "name": "stdout",
     "output_type": "stream",
     "text": [
      "1\n",
      "100\n"
     ]
    }
   ],
   "source": [
    "class X:\n",
    "    x = 1\n",
    "\n",
    "object1 = X()\n",
    "object1.x = 100\n",
    "\n",
    "print(X.x)\n",
    "print(object1.x)"
   ]
  },
  {
   "cell_type": "code",
   "execution_count": null,
   "metadata": {},
   "outputs": [],
   "source": [
    "class User:\n",
    "    pass\n",
    "\n",
    "guest = User()\n",
    "guest.first_name = \"Guest 1\"\n",
    "print(guest.first_name)\n",
    "\n",
    "print(guest)\n",
    "print(guest.__dict__)\n"
   ]
  },
  {
   "cell_type": "code",
   "execution_count": 10,
   "metadata": {},
   "outputs": [
    {
     "name": "stdout",
     "output_type": "stream",
     "text": [
      "The <bound method Car.make of <__main__.Car object at 0x12030e290>> has started now\n",
      "The <bound method Car.make of <__main__.Car object at 0x12030e290>> has started now\n",
      "Toyota\n",
      "False\n",
      "The <bound method Car.make of <__main__.Car object at 0x1202d1f10>> has started now\n",
      "True\n"
     ]
    }
   ],
   "source": [
    "class Car:\n",
    "    def __init__(self, make, model, year, color):\n",
    "        self._make = make\n",
    "        self._model = model\n",
    "        self.year = year\n",
    "        self.color = color\n",
    "        self.started = False\n",
    "        self.speed = 0\n",
    "        self.max_speed = 200\n",
    "\n",
    "    @property\n",
    "    def make(self):\n",
    "        return self._make\n",
    "    \n",
    "    @property\n",
    "    def model(self):\n",
    "        return self._model\n",
    "        \n",
    "    def start(self):\n",
    "        self.started = True\n",
    "        print(f\"The {self.make} has started now\")\n",
    "\n",
    "\n",
    "# create/instantiate an object/variable named \"my_car\" of the class \"Car\"\n",
    "my_car = Car(\"Toyota\", \"Corolla\", 2015, \"Red\")\n",
    "\n",
    "my_car.start()\n",
    "Car.start(my_car) # this is the equivalent statement to my_car.start(), but, do not execute instance methods like this\n",
    "\n",
    "\n",
    "# we can also create object using named arguments\n",
    "my_car = Car(make=\"Toyota\", model=\"Corolla\", year=2015, color=\"Red\")\n",
    "\n",
    "# error because __init__ method cannot be called directly\n",
    "# my_car = Car.__init__(my_car, \"Toyota\", \"Corolla\", 2015, \"Red\")\n",
    "\n",
    "# print(Car.make)\n",
    "\n",
    "print(my_car.make)\n",
    "\n",
    "print(my_car.started)\n",
    "# this is the equivalent statement to my_car.start()\n",
    "# but, do not execute instance methods like this\n",
    "Car.start(my_car)\n",
    "print(my_car.started)\n",
    "\n"
   ]
  },
  {
   "cell_type": "code",
   "execution_count": null,
   "metadata": {},
   "outputs": [],
   "source": [
    "class BankAccount:\n",
    "    def __init__(self):\n",
    "        self.__balance = 0  # Private attribute\n",
    "\n",
    "    def deposit(self, amount):\n",
    "        if amount > 0:\n",
    "            self.__balance += amount\n",
    "\n",
    "    def withdraw(self, amount):\n",
    "        if 0 < amount <= self.__balance:\n",
    "            self.__balance -= amount\n",
    "        return amount\n",
    "\n",
    "    def get_balance(self):\n",
    "        return self.__balance"
   ]
  },
  {
   "cell_type": "code",
   "execution_count": 4,
   "metadata": {},
   "outputs": [
    {
     "name": "stdout",
     "output_type": "stream",
     "text": [
      "-5\n",
      "<property object at 0x1202d7920>\n"
     ]
    }
   ],
   "source": [
    "class Circle:\n",
    "    def __init__(self, radius):\n",
    "        self._radius = radius\n",
    "\n",
    "    @property\n",
    "    def radius(self):\n",
    "        return self._radius\n",
    "\n",
    "    @radius.setter\n",
    "    def radius(self, value):\n",
    "        if not isinstance(value, (int, float)) or value <= 0:\n",
    "            raise ValueError(\"positive number expected\")\n",
    "        self._radius = value\n",
    "\n",
    "# radius is a property of the object \"c\", not the class \"Circle\"\n",
    "c = Circle(-5)\n",
    "print(c.radius)\n",
    "print(Circle.radius)\n",
    "\n",
    "\n",
    "# To prevent the user from setting a negative radius, we can use a property setter\n",
    "# .radius instead of ._radius\n",
    "#\n",
    "# class Circle:\n",
    "#     def __init__(self, radius):\n",
    "#         self.radius = radius\n"
   ]
  },
  {
   "cell_type": "code",
   "execution_count": 6,
   "metadata": {},
   "outputs": [
    {
     "name": "stdout",
     "output_type": "stream",
     "text": [
      "Toyota, Corolla, Red: (2015)\n",
      "Car(make=\"Toyota\", model=\"Corolla\", year=2015, color=\"Red\")\n"
     ]
    }
   ],
   "source": [
    "class Car:\n",
    "    def __init__(self, make, model, year, color):\n",
    "        self.make = make\n",
    "        self.model = model\n",
    "        self.year = year\n",
    "        self.color = color\n",
    "        self.started = False\n",
    "        self.speed = 0\n",
    "        self.max_speed = 200\n",
    "\n",
    "    def __str__(self): # informal string representation\n",
    "        return f\"{self.make}, {self.model}, {self.color}: ({self.year})\"\n",
    "\n",
    "    def __repr__(self): # formal string representation\n",
    "        return (\n",
    "            f\"{type(self).__name__}\"\n",
    "            f'(make=\"{self.make}\", '\n",
    "            f'model=\"{self.model}\", '\n",
    "            f\"year={self.year}, \"\n",
    "            f'color=\"{self.color}\")'\n",
    "        )\n",
    "\n",
    "c = Car(\"Toyota\", \"Corolla\", 2015, \"Red\")\n",
    "print(c)\n",
    "print(repr(c))\n"
   ]
  },
  {
   "cell_type": "code",
   "execution_count": 5,
   "metadata": {},
   "outputs": [
    {
     "data": {
      "text/plain": [
       "{'name': 'Jane Doe', 'job': 'Data Engineer'}"
      ]
     },
     "execution_count": 5,
     "metadata": {},
     "output_type": "execute_result"
    }
   ],
   "source": [
    "class User:\n",
    "    pass\n",
    "\n",
    "jane = User()\n",
    "jane.name = \"Jane Doe\"\n",
    "jane.job = \"Data Engineer\"\n",
    "jane.__dict__\n"
   ]
  }
 ],
 "metadata": {
  "kernelspec": {
   "display_name": "Python 3",
   "language": "python",
   "name": "python3"
  },
  "language_info": {
   "codemirror_mode": {
    "name": "ipython",
    "version": 3
   },
   "file_extension": ".py",
   "mimetype": "text/x-python",
   "name": "python",
   "nbconvert_exporter": "python",
   "pygments_lexer": "ipython3",
   "version": "3.11.6"
  }
 },
 "nbformat": 4,
 "nbformat_minor": 2
}
