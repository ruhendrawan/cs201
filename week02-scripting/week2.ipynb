{
 "cells": [
  {
   "cell_type": "markdown",
   "metadata": {},
   "source": [
    "Try to run this python notebook\n",
    "\n",
    "Pros\n",
    "- divide code into blocks\n",
    "- expect immediate result\n",
    "- easier for data science\n",
    "    - all you need in one place\n",
    "    - easier to share\n",
    "\n",
    "Other options\n",
    "- manage the code as package or module (inside a folder) -- we will practice this in the course\n",
    "- manage a single scripting code"
   ]
  },
  {
   "cell_type": "code",
   "execution_count": 1,
   "metadata": {},
   "outputs": [
    {
     "name": "stdout",
     "output_type": "stream",
     "text": [
      "True\n"
     ]
    }
   ],
   "source": [
    "frozen = True\n",
    "print(not not frozen)"
   ]
  }
 ],
 "metadata": {
  "kernelspec": {
   "display_name": "Python 3",
   "language": "python",
   "name": "python3"
  },
  "language_info": {
   "codemirror_mode": {
    "name": "ipython",
    "version": 3
   },
   "file_extension": ".py",
   "mimetype": "text/x-python",
   "name": "python",
   "nbconvert_exporter": "python",
   "pygments_lexer": "ipython3",
   "version": "3.11.6"
  }
 },
 "nbformat": 4,
 "nbformat_minor": 2
}
